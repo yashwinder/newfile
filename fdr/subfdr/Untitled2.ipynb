{
 "cells": [
  {
   "cell_type": "code",
   "execution_count": 3,
   "metadata": {
    "scrolled": true
   },
   "outputs": [
    {
     "name": "stdout",
     "output_type": "stream",
     "text": [
      "anandl@iisc.ac.in\n",
      "mnm@iisc.ac.in\n",
      "narahari@iisc.ac.in\n",
      "vijayn@iisc.ac.in\n",
      "arpita@iisc.ac.in\n",
      "raghavan@iisc.ac.in\n",
      "udayb@iisc.ac.in\n",
      "chandan@iisc.ac.in\n",
      "saladi@iisc.ac.in\n",
      "gsat@iisc.ac.in\n",
      "shirish@iisc.ac.in\n",
      "srikant@iisc.ac.in\n",
      "ppt@iisc.ac.in\n",
      "mjt@iisc.ac.in\n",
      "gthoppe@iisc.ac.in\n",
      "nv@iisc.ac.in\n"
     ]
    }
   ],
   "source": [
    "import pandas as pd\n",
    "mail_list = pd.read_excel('/home/yashwinder/Desktop/email_id.xlsx')\n",
    "\n",
    "# getting the names and the emails\n",
    "#names = email_list['NAME']\n",
    "emails = mail_list['EMAIL']\n",
    "\n",
    "# iterate through the records\n",
    "for i in range(len(emails)):\n",
    "    print(emails[i])"
   ]
  },
  {
   "cell_type": "code",
   "execution_count": null,
   "metadata": {},
   "outputs": [],
   "source": []
  }
 ],
 "metadata": {
  "kernelspec": {
   "display_name": "Python 3",
   "language": "python",
   "name": "python3"
  },
  "language_info": {
   "codemirror_mode": {
    "name": "ipython",
    "version": 3
   },
   "file_extension": ".py",
   "mimetype": "text/x-python",
   "name": "python",
   "nbconvert_exporter": "python",
   "pygments_lexer": "ipython3",
   "version": "3.8.10"
  }
 },
 "nbformat": 4,
 "nbformat_minor": 4
}
