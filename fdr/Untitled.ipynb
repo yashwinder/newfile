{
 "cells": [
  {
   "cell_type": "code",
   "execution_count": 27,
   "metadata": {},
   "outputs": [],
   "source": [
    "# Python code to send email to a list of\n",
    "# emails from a spreadsheet\n",
    "\n",
    "# import the required libraries\n",
    "import pandas as pd\n",
    "import smtplib"
   ]
  },
  {
   "cell_type": "code",
   "execution_count": 28,
   "metadata": {},
   "outputs": [],
   "source": [
    "# change these as per use\n",
    "your_email = \"b18097@students.iitmandi.ac.in\"\n",
    "your_password = \"password\"\n",
    "\n",
    "# establishing connection with gmail\n",
    "server = smtplib.SMTP_SSL('smtp.gmail.com', 465)\n",
    "server.ehlo()\n",
    "server.login(your_email, your_password)\n",
    "\n",
    "# reading the spreadsheet\n",
    "email_list = pd.read_excel('/home/yashwinder/Desktop/email_ids.xlsx')\n",
    "\n",
    "# getting the names and the emails\n",
    "#names = email_list['NAME']\n",
    "emails = email_list['EMAIL']\n",
    "\n",
    "# iterate through the records\n",
    "for i in range(len(emails)):\n",
    "\n",
    "\t# for every record get the name and the email addresses\n",
    "\t#name = names[i]\n",
    "\temail = emails[i]\n",
    "\n",
    "\t# the message to be emailed\n",
    "\tmessage = \"Mr. Robot\"\n",
    "\n",
    "\t# sending the email\n",
    "\tserver.sendmail(your_email, [email], message)\n",
    "\n",
    "# close the smtp server\n",
    "server.close()\n"
   ]
  },
  {
   "cell_type": "code",
   "execution_count": null,
   "metadata": {},
   "outputs": [],
   "source": []
  }
 ],
 "metadata": {
  "kernelspec": {
   "display_name": "Python 3",
   "language": "python",
   "name": "python3"
  },
  "language_info": {
   "codemirror_mode": {
    "name": "ipython",
    "version": 3
   },
   "file_extension": ".py",
   "mimetype": "text/x-python",
   "name": "python",
   "nbconvert_exporter": "python",
   "pygments_lexer": "ipython3",
   "version": "3.8.10"
  }
 },
 "nbformat": 4,
 "nbformat_minor": 4
}
